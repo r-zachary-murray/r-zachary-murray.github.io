{
 "cells": [
  {
   "cell_type": "code",
   "execution_count": 15,
   "id": "bdf98916-7308-4283-bb5e-751f7cb36671",
   "metadata": {},
   "outputs": [],
   "source": [
    "import rebound\n",
    "import matplotlib.pyplot as plt\n",
    "import numpy as np\n",
    "from matplotlib import cm\n",
    "plt.style.use('custom_paper')"
   ]
  },
  {
   "cell_type": "code",
   "execution_count": 16,
   "id": "57e70fe5-e22a-4432-9ac1-d896761786a1",
   "metadata": {},
   "outputs": [],
   "source": [
    "def about180(aray):\n",
    "    out = []\n",
    "    for val in aray:\n",
    "        while val < 0:\n",
    "            val += 2*np.pi\n",
    "        while val > 2*np.pi:\n",
    "            val -= 2*np.pi\n",
    "        out.append(val)\n",
    "    return ((np.asarray(out)-np.pi)*180/np.pi)"
   ]
  },
  {
   "cell_type": "code",
   "execution_count": null,
   "id": "4dfb89f3-3e84-428e-8d63-7748f74c361f",
   "metadata": {},
   "outputs": [],
   "source": []
  },
  {
   "cell_type": "code",
   "execution_count": 17,
   "id": "be73b5d3-c3f4-4cff-bc48-73790fff9135",
   "metadata": {},
   "outputs": [],
   "source": [
    "sim = rebound.Simulation()\n",
    "sim.units = ('AU', 'Yr', 'Msun')\n",
    "sim.add(m=1) \n",
    "sim.add(m=1e-4,a=1,e=0.01,pomega=-np.pi,f=3*np.pi/2) #circular jupiter\n",
    "\n",
    "j,k = 3,1\n",
    "a0 = (j/(j-k))**(2/3)\n",
    "npar = 50\n",
    "delta= 4e-2\n",
    "\n",
    "agrid = np.linspace(a0-delta,a0+delta,npar)\n",
    "egrid = np.linspace(0.01,0.20,npar)\n",
    "\n",
    "for a in agrid:\n",
    "    for e in egrid:\n",
    "        sim.add(m=0,a=a,e=e,omega=0)"
   ]
  },
  {
   "cell_type": "code",
   "execution_count": 18,
   "id": "b05eeaa2-33fb-4bfa-b44a-757f38604fb5",
   "metadata": {},
   "outputs": [],
   "source": [
    "sim.integrator = \"whfast\"\n",
    "sim.dt = 0.05 * sim.particles[1].P  # 5% of planet's period\n",
    "Nout = 10000            # number of points to display\n",
    "tmax = np.pi*100         # integrate for 100pi years, make this irrational so the animation is smooth"
   ]
  },
  {
   "cell_type": "code",
   "execution_count": 19,
   "id": "d55c27b8-2ab0-47e7-b94b-3ea84c3819f0",
   "metadata": {},
   "outputs": [],
   "source": [
    "Ntest = npar**2\n",
    "As = np.zeros((Ntest+1,Nout))\n",
    "Periods = np.zeros((Ntest+1,Nout))\n",
    "Es = np.zeros((Ntest+1,Nout))\n",
    "Ls = np.zeros((Ntest+1,Nout))\n",
    "Ps = np.zeros((Ntest+1,Nout))\n",
    "\n",
    "times = np.linspace(0.,tmax,Nout)\n",
    "ps = sim.particles\n",
    "\n",
    "for i,time in enumerate(times):\n",
    "    sim.integrate(time)\n",
    "    os = sim.calculate_orbits()\n",
    "    for j in range(Ntest+1): #first particle is the planet\n",
    "        As[j][i] = os[j].a \n",
    "        Periods[j][i] = os[j].P \n",
    "        Es[j][i] = os[j].e\n",
    "        Ls[j][i] = os[j].l\n",
    "        Ps[j][i] = os[j].pomega"
   ]
  },
  {
   "cell_type": "code",
   "execution_count": null,
   "id": "596c02fb-b0a4-49b6-8aba-d9218e42050c",
   "metadata": {},
   "outputs": [],
   "source": []
  },
  {
   "cell_type": "code",
   "execution_count": 20,
   "id": "431f36ca-0543-47a6-9f7a-265147815687",
   "metadata": {},
   "outputs": [],
   "source": [
    "theta_e2 = 3.*Ls[1:] - 2.*Ls[0] - Ps[1:]\n",
    "theta_e2 = np.array([about180(te2) for te2 in theta_e2])\n",
    "\n",
    "amplitudes= np.max(theta_e2,axis=1)\n",
    "colors = cm.viridis(amplitudes/180)\n",
    "colors[amplitudes > 179] = [1,0,0,1]"
   ]
  },
  {
   "cell_type": "code",
   "execution_count": null,
   "id": "6fd01d3a-83c4-4b6e-848c-3290bf5771a9",
   "metadata": {},
   "outputs": [],
   "source": []
  },
  {
   "cell_type": "code",
   "execution_count": 35,
   "id": "e2e6ff1d-95ca-4998-ad5a-464c16af651e",
   "metadata": {},
   "outputs": [],
   "source": [
    "def make_figures(i):\n",
    "    fig,ax = plt.subplots(figsize=(15,7))\n",
    "    ax.scatter(Periods[1:][:,i],Es[1:][:,i],c=colors)\n",
    "    sc = ax.scatter(Periods[1:][:,i],Es[1:][:,i],c=amplitudes,s=0)\n",
    "    plt.colorbar(sc,label=r'Libration Amplitude [$^\\circ$]')\n",
    "    ax.set_xlabel(r\"$P_2/P_1$\")\n",
    "    ax.set_ylabel(\"Eccentricty\")\n",
    "    ax.set_xlim(np.min(Periods[1:][:,0]),np.max(Periods[1:][:,0]))\n",
    "    ax.set_ylim(np.min(Es[1:][:,0]),np.max(Es[1:][:,0]))\n",
    "    ax.set_title(\"t = \"+str(np.round(times[i],1))+\" [yrs]\")\n",
    "    return fig"
   ]
  },
  {
   "cell_type": "code",
   "execution_count": 36,
   "id": "70c7dda9-5e02-453a-b2af-5907773bb77c",
   "metadata": {},
   "outputs": [],
   "source": [
    "from animate import *"
   ]
  },
  {
   "cell_type": "code",
   "execution_count": 37,
   "id": "0863c938-dc66-41ee-8526-33e4cba3f243",
   "metadata": {},
   "outputs": [],
   "source": [
    "parameter_grid = np.arange(0,len(times),33)"
   ]
  },
  {
   "cell_type": "code",
   "execution_count": 38,
   "id": "b864fad3-7c1c-47ca-80fc-3ce17515cea5",
   "metadata": {},
   "outputs": [
    {
     "name": "stdout",
     "output_type": "stream",
     "text": [
      "saving figures\n"
     ]
    },
    {
     "name": "stderr",
     "output_type": "stream",
     "text": [
      "100%|█████████████████████████████████████████| 304/304 [00:56<00:00,  5.39it/s]\n"
     ]
    }
   ],
   "source": [
    "savefigures(make_figures,parameter_grid,outdir='./tornado_plot/',dpival=100)"
   ]
  },
  {
   "cell_type": "code",
   "execution_count": 40,
   "id": "a831fc0d-0621-4e5f-9af8-2fbec5a8ac26",
   "metadata": {},
   "outputs": [
    {
     "name": "stdout",
     "output_type": "stream",
     "text": [
      "Framerate is None fps\n",
      "Total Runtime is None s\n"
     ]
    },
    {
     "name": "stderr",
     "output_type": "stream",
     "text": [
      "ffmpeg version 4.4.2-0ubuntu0.22.04.1 Copyright (c) 2000-2021 the FFmpeg developers\n",
      "  built with gcc 11 (Ubuntu 11.2.0-19ubuntu1)\n",
      "  configuration: --prefix=/usr --extra-version=0ubuntu0.22.04.1 --toolchain=hardened --libdir=/usr/lib/x86_64-linux-gnu --incdir=/usr/include/x86_64-linux-gnu --arch=amd64 --enable-gpl --disable-stripping --enable-gnutls --enable-ladspa --enable-libaom --enable-libass --enable-libbluray --enable-libbs2b --enable-libcaca --enable-libcdio --enable-libcodec2 --enable-libdav1d --enable-libflite --enable-libfontconfig --enable-libfreetype --enable-libfribidi --enable-libgme --enable-libgsm --enable-libjack --enable-libmp3lame --enable-libmysofa --enable-libopenjpeg --enable-libopenmpt --enable-libopus --enable-libpulse --enable-librabbitmq --enable-librubberband --enable-libshine --enable-libsnappy --enable-libsoxr --enable-libspeex --enable-libsrt --enable-libssh --enable-libtheora --enable-libtwolame --enable-libvidstab --enable-libvorbis --enable-libvpx --enable-libwebp --enable-libx265 --enable-libxml2 --enable-libxvid --enable-libzimg --enable-libzmq --enable-libzvbi --enable-lv2 --enable-omx --enable-openal --enable-opencl --enable-opengl --enable-sdl2 --enable-pocketsphinx --enable-librsvg --enable-libmfx --enable-libdc1394 --enable-libdrm --enable-libiec61883 --enable-chromaprint --enable-frei0r --enable-libx264 --enable-shared\n",
      "  libavutil      56. 70.100 / 56. 70.100\n",
      "  libavcodec     58.134.100 / 58.134.100\n",
      "  libavformat    58. 76.100 / 58. 76.100\n",
      "  libavdevice    58. 13.100 / 58. 13.100\n",
      "  libavfilter     7.110.100 /  7.110.100\n",
      "  libswscale      5.  9.100 /  5.  9.100\n",
      "  libswresample   3.  9.100 /  3.  9.100\n",
      "  libpostproc    55.  9.100 / 55.  9.100\n",
      "Input #0, image2, from '%d.png':\n",
      "  Duration: 00:00:12.16, start: 0.000000, bitrate: N/A\n",
      "  Stream #0:0: Video: png, rgba(pc), 1218x690 [SAR 3937:3937 DAR 203:115], 25 fps, 25 tbr, 25 tbn, 25 tbc\n",
      "Stream mapping:\n",
      "  Stream #0:0 -> #0:0 (png (native) -> png (native))\n",
      "Press [q] to stop, [?] for help\n",
      "[Parsed_palettegen_0 @ 0x56044845ddc0] 255(+1) colors generated out of 461475 colors; ratio=0.000553\n",
      "[Parsed_palettegen_0 @ 0x56044845ddc0] Dupped color: FFCCE01D\n",
      "Output #0, image2, to '../temp_palette_tornado_plot.png':\n",
      "  Metadata:\n",
      "    encoder         : Lavf58.76.100\n",
      "  Stream #0:0: Video: png, rgba(pc, gbr/unknown/unknown, progressive), 16x16 [SAR 1:1 DAR 1:1], q=2-31, 200 kb/s, 25 fps, 25 tbn\n",
      "    Metadata:\n",
      "      encoder         : Lavc58.134.100 png\n",
      "frame=    1 fps=0.7 q=-0.0 Lsize=N/A time=00:00:00.04 bitrate=N/A speed=0.029x    \n",
      "video:1kB audio:0kB subtitle:0kB other streams:0kB global headers:0kB muxing overhead: unknown\n",
      "ffmpeg version 4.4.2-0ubuntu0.22.04.1 Copyright (c) 2000-2021 the FFmpeg developers\n",
      "  built with gcc 11 (Ubuntu 11.2.0-19ubuntu1)\n",
      "  configuration: --prefix=/usr --extra-version=0ubuntu0.22.04.1 --toolchain=hardened --libdir=/usr/lib/x86_64-linux-gnu --incdir=/usr/include/x86_64-linux-gnu --arch=amd64 --enable-gpl --disable-stripping --enable-gnutls --enable-ladspa --enable-libaom --enable-libass --enable-libbluray --enable-libbs2b --enable-libcaca --enable-libcdio --enable-libcodec2 --enable-libdav1d --enable-libflite --enable-libfontconfig --enable-libfreetype --enable-libfribidi --enable-libgme --enable-libgsm --enable-libjack --enable-libmp3lame --enable-libmysofa --enable-libopenjpeg --enable-libopenmpt --enable-libopus --enable-libpulse --enable-librabbitmq --enable-librubberband --enable-libshine --enable-libsnappy --enable-libsoxr --enable-libspeex --enable-libsrt --enable-libssh --enable-libtheora --enable-libtwolame --enable-libvidstab --enable-libvorbis --enable-libvpx --enable-libwebp --enable-libx265 --enable-libxml2 --enable-libxvid --enable-libzimg --enable-libzmq --enable-libzvbi --enable-lv2 --enable-omx --enable-openal --enable-opencl --enable-opengl --enable-sdl2 --enable-pocketsphinx --enable-librsvg --enable-libmfx --enable-libdc1394 --enable-libdrm --enable-libiec61883 --enable-chromaprint --enable-frei0r --enable-libx264 --enable-shared\n",
      "  libavutil      56. 70.100 / 56. 70.100\n",
      "  libavcodec     58.134.100 / 58.134.100\n",
      "  libavformat    58. 76.100 / 58. 76.100\n",
      "  libavdevice    58. 13.100 / 58. 13.100\n",
      "  libavfilter     7.110.100 /  7.110.100\n",
      "  libswscale      5.  9.100 /  5.  9.100\n",
      "  libswresample   3.  9.100 /  3.  9.100\n",
      "  libpostproc    55.  9.100 / 55.  9.100\n",
      "Input #0, image2, from '%d.png':\n",
      "  Duration: 00:00:12.16, start: 0.000000, bitrate: N/A\n",
      "  Stream #0:0: Video: png, rgba(pc), 1218x690 [SAR 3937:3937 DAR 203:115], 25 fps, 25 tbr, 25 tbn, 25 tbc\n",
      "Input #1, png_pipe, from '../temp_palette_tornado_plot.png':\n",
      "  Duration: N/A, bitrate: N/A\n",
      "  Stream #1:0: Video: png, rgba(pc), 16x16 [SAR 1:1 DAR 1:1], 25 fps, 25 tbr, 25 tbn, 25 tbc\n",
      "Stream mapping:\n",
      "  Stream #0:0 (png) -> paletteuse:default\n",
      "  Stream #1:0 (png) -> paletteuse:palette\n",
      "  paletteuse -> Stream #0:0 (gif)\n",
      "Press [q] to stop, [?] for help\n",
      "[image2 @ 0x55c61cb06840] Thread message queue blocking; consider raising the thread_queue_size option (current value: 8)\n",
      "Output #0, gif, to '../tornado_plot.gif':\n",
      "  Metadata:\n",
      "    encoder         : Lavf58.76.100\n",
      "  Stream #0:0: Video: gif, pal8(pc, gbr/unknown/unknown, progressive), 1218x690 [SAR 1:1 DAR 203:115], q=2-31, 200 kb/s, 25 fps, 100 tbn (default)\n",
      "    Metadata:\n",
      "      encoder         : Lavc58.134.100 gif\n",
      "frame=  304 fps= 44 q=-0.0 Lsize=   45438kB time=00:00:12.13 bitrate=30686.3kbits/s speed=1.77x    \n",
      "video:45438kB audio:0kB subtitle:0kB other streams:0kB global headers:0kB muxing overhead: 0.000043%\n"
     ]
    }
   ],
   "source": [
    "render('./tornado_plot/','tornado_plot',output_type='gif',cleanup_type='rm')"
   ]
  },
  {
   "cell_type": "code",
   "execution_count": null,
   "id": "650b6437-a9ba-4d74-a548-588f1d20f879",
   "metadata": {},
   "outputs": [],
   "source": []
  },
  {
   "cell_type": "code",
   "execution_count": null,
   "id": "438a0a03-6ff4-4aa6-89af-270b89d60ff6",
   "metadata": {},
   "outputs": [],
   "source": []
  },
  {
   "cell_type": "code",
   "execution_count": null,
   "id": "4e8b5227-eedd-486a-87ae-61443b17d6af",
   "metadata": {},
   "outputs": [],
   "source": []
  },
  {
   "cell_type": "code",
   "execution_count": null,
   "id": "acf5e013-7740-4a13-8f52-dea0cbbe6f11",
   "metadata": {},
   "outputs": [],
   "source": []
  }
 ],
 "metadata": {
  "kernelspec": {
   "display_name": "Python 3 (ipykernel)",
   "language": "python",
   "name": "python3"
  },
  "language_info": {
   "codemirror_mode": {
    "name": "ipython",
    "version": 3
   },
   "file_extension": ".py",
   "mimetype": "text/x-python",
   "name": "python",
   "nbconvert_exporter": "python",
   "pygments_lexer": "ipython3",
   "version": "3.10.6"
  }
 },
 "nbformat": 4,
 "nbformat_minor": 5
}
